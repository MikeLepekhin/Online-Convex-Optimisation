{
 "cells": [
  {
   "cell_type": "markdown",
   "metadata": {},
   "source": [
    "# Online Convex Optimization"
   ]
  },
  {
   "cell_type": "markdown",
   "metadata": {},
   "source": [
    "Данные будем брать из этого датасета:\n",
    "https://archive.ics.uci.edu/ml/datasets/spambase"
   ]
  },
  {
   "cell_type": "code",
   "execution_count": 229,
   "metadata": {},
   "outputs": [],
   "source": [
    "# подключение необходимых библиотек\n",
    "\n",
    "import numpy as np\n",
    "import pandas as pd\n",
    "import matplotlib.pyplot as plt\n",
    "import cvxpy as cvx\n",
    "%matplotlib inline"
   ]
  },
  {
   "cell_type": "code",
   "execution_count": 230,
   "metadata": {
    "scrolled": false
   },
   "outputs": [
    {
     "name": "stdout",
     "output_type": "stream",
     "text": [
      "55\n"
     ]
    },
    {
     "data": {
      "text/html": [
       "<div>\n",
       "<style scoped>\n",
       "    .dataframe tbody tr th:only-of-type {\n",
       "        vertical-align: middle;\n",
       "    }\n",
       "\n",
       "    .dataframe tbody tr th {\n",
       "        vertical-align: top;\n",
       "    }\n",
       "\n",
       "    .dataframe thead th {\n",
       "        text-align: right;\n",
       "    }\n",
       "</style>\n",
       "<table border=\"1\" class=\"dataframe\">\n",
       "  <thead>\n",
       "    <tr style=\"text-align: right;\">\n",
       "      <th></th>\n",
       "      <th>0</th>\n",
       "      <th>1</th>\n",
       "      <th>2</th>\n",
       "      <th>3</th>\n",
       "      <th>4</th>\n",
       "      <th>5</th>\n",
       "      <th>6</th>\n",
       "      <th>7</th>\n",
       "      <th>8</th>\n",
       "      <th>9</th>\n",
       "      <th>...</th>\n",
       "      <th>48</th>\n",
       "      <th>49</th>\n",
       "      <th>50</th>\n",
       "      <th>51</th>\n",
       "      <th>52</th>\n",
       "      <th>53</th>\n",
       "      <th>54</th>\n",
       "      <th>55</th>\n",
       "      <th>56</th>\n",
       "      <th>57</th>\n",
       "    </tr>\n",
       "  </thead>\n",
       "  <tbody>\n",
       "    <tr>\n",
       "      <th>0</th>\n",
       "      <td>0.00</td>\n",
       "      <td>0.64</td>\n",
       "      <td>0.64</td>\n",
       "      <td>0.0</td>\n",
       "      <td>0.32</td>\n",
       "      <td>0.00</td>\n",
       "      <td>0.00</td>\n",
       "      <td>0.00</td>\n",
       "      <td>0.00</td>\n",
       "      <td>0.00</td>\n",
       "      <td>...</td>\n",
       "      <td>0.00</td>\n",
       "      <td>0.000</td>\n",
       "      <td>0.0</td>\n",
       "      <td>0.778</td>\n",
       "      <td>0.000</td>\n",
       "      <td>0.000</td>\n",
       "      <td>3.756</td>\n",
       "      <td>61</td>\n",
       "      <td>278</td>\n",
       "      <td>1</td>\n",
       "    </tr>\n",
       "    <tr>\n",
       "      <th>1</th>\n",
       "      <td>0.21</td>\n",
       "      <td>0.28</td>\n",
       "      <td>0.50</td>\n",
       "      <td>0.0</td>\n",
       "      <td>0.14</td>\n",
       "      <td>0.28</td>\n",
       "      <td>0.21</td>\n",
       "      <td>0.07</td>\n",
       "      <td>0.00</td>\n",
       "      <td>0.94</td>\n",
       "      <td>...</td>\n",
       "      <td>0.00</td>\n",
       "      <td>0.132</td>\n",
       "      <td>0.0</td>\n",
       "      <td>0.372</td>\n",
       "      <td>0.180</td>\n",
       "      <td>0.048</td>\n",
       "      <td>5.114</td>\n",
       "      <td>101</td>\n",
       "      <td>1028</td>\n",
       "      <td>1</td>\n",
       "    </tr>\n",
       "    <tr>\n",
       "      <th>2</th>\n",
       "      <td>0.06</td>\n",
       "      <td>0.00</td>\n",
       "      <td>0.71</td>\n",
       "      <td>0.0</td>\n",
       "      <td>1.23</td>\n",
       "      <td>0.19</td>\n",
       "      <td>0.19</td>\n",
       "      <td>0.12</td>\n",
       "      <td>0.64</td>\n",
       "      <td>0.25</td>\n",
       "      <td>...</td>\n",
       "      <td>0.01</td>\n",
       "      <td>0.143</td>\n",
       "      <td>0.0</td>\n",
       "      <td>0.276</td>\n",
       "      <td>0.184</td>\n",
       "      <td>0.010</td>\n",
       "      <td>9.821</td>\n",
       "      <td>485</td>\n",
       "      <td>2259</td>\n",
       "      <td>1</td>\n",
       "    </tr>\n",
       "    <tr>\n",
       "      <th>3</th>\n",
       "      <td>0.00</td>\n",
       "      <td>0.00</td>\n",
       "      <td>0.00</td>\n",
       "      <td>0.0</td>\n",
       "      <td>0.63</td>\n",
       "      <td>0.00</td>\n",
       "      <td>0.31</td>\n",
       "      <td>0.63</td>\n",
       "      <td>0.31</td>\n",
       "      <td>0.63</td>\n",
       "      <td>...</td>\n",
       "      <td>0.00</td>\n",
       "      <td>0.137</td>\n",
       "      <td>0.0</td>\n",
       "      <td>0.137</td>\n",
       "      <td>0.000</td>\n",
       "      <td>0.000</td>\n",
       "      <td>3.537</td>\n",
       "      <td>40</td>\n",
       "      <td>191</td>\n",
       "      <td>1</td>\n",
       "    </tr>\n",
       "    <tr>\n",
       "      <th>4</th>\n",
       "      <td>0.00</td>\n",
       "      <td>0.00</td>\n",
       "      <td>0.00</td>\n",
       "      <td>0.0</td>\n",
       "      <td>0.63</td>\n",
       "      <td>0.00</td>\n",
       "      <td>0.31</td>\n",
       "      <td>0.63</td>\n",
       "      <td>0.31</td>\n",
       "      <td>0.63</td>\n",
       "      <td>...</td>\n",
       "      <td>0.00</td>\n",
       "      <td>0.135</td>\n",
       "      <td>0.0</td>\n",
       "      <td>0.135</td>\n",
       "      <td>0.000</td>\n",
       "      <td>0.000</td>\n",
       "      <td>3.537</td>\n",
       "      <td>40</td>\n",
       "      <td>191</td>\n",
       "      <td>1</td>\n",
       "    </tr>\n",
       "  </tbody>\n",
       "</table>\n",
       "<p>5 rows × 58 columns</p>\n",
       "</div>"
      ],
      "text/plain": [
       "     0     1     2    3     4     5     6     7     8     9  ...    48     49  \\\n",
       "0  0.00  0.64  0.64  0.0  0.32  0.00  0.00  0.00  0.00  0.00 ...  0.00  0.000   \n",
       "1  0.21  0.28  0.50  0.0  0.14  0.28  0.21  0.07  0.00  0.94 ...  0.00  0.132   \n",
       "2  0.06  0.00  0.71  0.0  1.23  0.19  0.19  0.12  0.64  0.25 ...  0.01  0.143   \n",
       "3  0.00  0.00  0.00  0.0  0.63  0.00  0.31  0.63  0.31  0.63 ...  0.00  0.137   \n",
       "4  0.00  0.00  0.00  0.0  0.63  0.00  0.31  0.63  0.31  0.63 ...  0.00  0.135   \n",
       "\n",
       "    50     51     52     53     54   55    56  57  \n",
       "0  0.0  0.778  0.000  0.000  3.756   61   278   1  \n",
       "1  0.0  0.372  0.180  0.048  5.114  101  1028   1  \n",
       "2  0.0  0.276  0.184  0.010  9.821  485  2259   1  \n",
       "3  0.0  0.137  0.000  0.000  3.537   40   191   1  \n",
       "4  0.0  0.135  0.000  0.000  3.537   40   191   1  \n",
       "\n",
       "[5 rows x 58 columns]"
      ]
     },
     "execution_count": 230,
     "metadata": {},
     "output_type": "execute_result"
    }
   ],
   "source": [
    "spam_data = pd.read_csv('spambase.data', header=None)\n",
    "\n",
    "d = 55\n",
    "spam_data.columns = np.arange(0, 58)\n",
    "print(d)\n",
    "spam_data.head()"
   ]
  },
  {
   "cell_type": "markdown",
   "metadata": {},
   "source": [
    "Заметим, что в данном датасете сначала идут те сообщения, которые являются спамом, а потом - те, которые не являются. Это может негативно сказаться на качестве работы алгоритмов. Поэтому сделаем `shuffle` строк датасета при помощи функции `pandas.sample`."
   ]
  },
  {
   "cell_type": "code",
   "execution_count": 231,
   "metadata": {},
   "outputs": [
    {
     "data": {
      "text/html": [
       "<div>\n",
       "<style scoped>\n",
       "    .dataframe tbody tr th:only-of-type {\n",
       "        vertical-align: middle;\n",
       "    }\n",
       "\n",
       "    .dataframe tbody tr th {\n",
       "        vertical-align: top;\n",
       "    }\n",
       "\n",
       "    .dataframe thead th {\n",
       "        text-align: right;\n",
       "    }\n",
       "</style>\n",
       "<table border=\"1\" class=\"dataframe\">\n",
       "  <thead>\n",
       "    <tr style=\"text-align: right;\">\n",
       "      <th></th>\n",
       "      <th>0</th>\n",
       "      <th>1</th>\n",
       "      <th>2</th>\n",
       "      <th>3</th>\n",
       "      <th>4</th>\n",
       "      <th>5</th>\n",
       "      <th>6</th>\n",
       "      <th>7</th>\n",
       "      <th>8</th>\n",
       "      <th>9</th>\n",
       "      <th>...</th>\n",
       "      <th>48</th>\n",
       "      <th>49</th>\n",
       "      <th>50</th>\n",
       "      <th>51</th>\n",
       "      <th>52</th>\n",
       "      <th>53</th>\n",
       "      <th>54</th>\n",
       "      <th>55</th>\n",
       "      <th>56</th>\n",
       "      <th>57</th>\n",
       "    </tr>\n",
       "  </thead>\n",
       "  <tbody>\n",
       "    <tr>\n",
       "      <th>2519</th>\n",
       "      <td>0.00</td>\n",
       "      <td>0.0</td>\n",
       "      <td>0.00</td>\n",
       "      <td>0.0</td>\n",
       "      <td>0.00</td>\n",
       "      <td>0.00</td>\n",
       "      <td>0.00</td>\n",
       "      <td>0.00</td>\n",
       "      <td>0.00</td>\n",
       "      <td>0.00</td>\n",
       "      <td>...</td>\n",
       "      <td>0.000</td>\n",
       "      <td>0.000</td>\n",
       "      <td>0.0</td>\n",
       "      <td>0.000</td>\n",
       "      <td>0.000</td>\n",
       "      <td>0.000</td>\n",
       "      <td>3.125</td>\n",
       "      <td>17</td>\n",
       "      <td>25</td>\n",
       "      <td>0</td>\n",
       "    </tr>\n",
       "    <tr>\n",
       "      <th>1937</th>\n",
       "      <td>0.00</td>\n",
       "      <td>0.0</td>\n",
       "      <td>0.35</td>\n",
       "      <td>0.0</td>\n",
       "      <td>0.35</td>\n",
       "      <td>0.71</td>\n",
       "      <td>0.00</td>\n",
       "      <td>0.00</td>\n",
       "      <td>0.00</td>\n",
       "      <td>0.00</td>\n",
       "      <td>...</td>\n",
       "      <td>0.000</td>\n",
       "      <td>0.124</td>\n",
       "      <td>0.0</td>\n",
       "      <td>0.372</td>\n",
       "      <td>0.000</td>\n",
       "      <td>0.000</td>\n",
       "      <td>1.641</td>\n",
       "      <td>12</td>\n",
       "      <td>110</td>\n",
       "      <td>0</td>\n",
       "    </tr>\n",
       "    <tr>\n",
       "      <th>874</th>\n",
       "      <td>0.00</td>\n",
       "      <td>0.0</td>\n",
       "      <td>0.44</td>\n",
       "      <td>0.0</td>\n",
       "      <td>0.88</td>\n",
       "      <td>0.22</td>\n",
       "      <td>0.00</td>\n",
       "      <td>0.00</td>\n",
       "      <td>0.00</td>\n",
       "      <td>0.00</td>\n",
       "      <td>...</td>\n",
       "      <td>0.037</td>\n",
       "      <td>0.224</td>\n",
       "      <td>0.0</td>\n",
       "      <td>0.000</td>\n",
       "      <td>0.187</td>\n",
       "      <td>0.149</td>\n",
       "      <td>3.384</td>\n",
       "      <td>21</td>\n",
       "      <td>264</td>\n",
       "      <td>1</td>\n",
       "    </tr>\n",
       "    <tr>\n",
       "      <th>1043</th>\n",
       "      <td>0.00</td>\n",
       "      <td>0.0</td>\n",
       "      <td>0.09</td>\n",
       "      <td>0.0</td>\n",
       "      <td>0.58</td>\n",
       "      <td>0.29</td>\n",
       "      <td>0.09</td>\n",
       "      <td>0.00</td>\n",
       "      <td>0.38</td>\n",
       "      <td>0.00</td>\n",
       "      <td>...</td>\n",
       "      <td>0.063</td>\n",
       "      <td>0.047</td>\n",
       "      <td>0.0</td>\n",
       "      <td>0.559</td>\n",
       "      <td>0.047</td>\n",
       "      <td>0.031</td>\n",
       "      <td>1.694</td>\n",
       "      <td>23</td>\n",
       "      <td>432</td>\n",
       "      <td>1</td>\n",
       "    </tr>\n",
       "    <tr>\n",
       "      <th>4178</th>\n",
       "      <td>0.00</td>\n",
       "      <td>0.0</td>\n",
       "      <td>0.00</td>\n",
       "      <td>0.0</td>\n",
       "      <td>0.00</td>\n",
       "      <td>0.00</td>\n",
       "      <td>0.00</td>\n",
       "      <td>0.00</td>\n",
       "      <td>0.00</td>\n",
       "      <td>0.86</td>\n",
       "      <td>...</td>\n",
       "      <td>0.000</td>\n",
       "      <td>0.321</td>\n",
       "      <td>0.0</td>\n",
       "      <td>0.214</td>\n",
       "      <td>0.000</td>\n",
       "      <td>0.000</td>\n",
       "      <td>3.956</td>\n",
       "      <td>51</td>\n",
       "      <td>91</td>\n",
       "      <td>0</td>\n",
       "    </tr>\n",
       "    <tr>\n",
       "      <th>1000</th>\n",
       "      <td>0.45</td>\n",
       "      <td>0.9</td>\n",
       "      <td>0.90</td>\n",
       "      <td>0.0</td>\n",
       "      <td>0.45</td>\n",
       "      <td>0.00</td>\n",
       "      <td>0.00</td>\n",
       "      <td>0.45</td>\n",
       "      <td>0.00</td>\n",
       "      <td>1.80</td>\n",
       "      <td>...</td>\n",
       "      <td>0.000</td>\n",
       "      <td>0.244</td>\n",
       "      <td>0.0</td>\n",
       "      <td>1.631</td>\n",
       "      <td>0.244</td>\n",
       "      <td>0.081</td>\n",
       "      <td>64.416</td>\n",
       "      <td>708</td>\n",
       "      <td>773</td>\n",
       "      <td>1</td>\n",
       "    </tr>\n",
       "    <tr>\n",
       "      <th>2466</th>\n",
       "      <td>0.00</td>\n",
       "      <td>0.0</td>\n",
       "      <td>0.00</td>\n",
       "      <td>0.0</td>\n",
       "      <td>0.00</td>\n",
       "      <td>0.00</td>\n",
       "      <td>0.00</td>\n",
       "      <td>0.00</td>\n",
       "      <td>0.00</td>\n",
       "      <td>0.00</td>\n",
       "      <td>...</td>\n",
       "      <td>0.000</td>\n",
       "      <td>0.000</td>\n",
       "      <td>0.0</td>\n",
       "      <td>0.000</td>\n",
       "      <td>0.000</td>\n",
       "      <td>0.000</td>\n",
       "      <td>1.785</td>\n",
       "      <td>6</td>\n",
       "      <td>25</td>\n",
       "      <td>0</td>\n",
       "    </tr>\n",
       "    <tr>\n",
       "      <th>3665</th>\n",
       "      <td>0.00</td>\n",
       "      <td>0.0</td>\n",
       "      <td>0.00</td>\n",
       "      <td>0.0</td>\n",
       "      <td>0.00</td>\n",
       "      <td>0.00</td>\n",
       "      <td>0.00</td>\n",
       "      <td>0.00</td>\n",
       "      <td>0.00</td>\n",
       "      <td>0.00</td>\n",
       "      <td>...</td>\n",
       "      <td>0.000</td>\n",
       "      <td>0.000</td>\n",
       "      <td>0.0</td>\n",
       "      <td>0.000</td>\n",
       "      <td>0.000</td>\n",
       "      <td>0.000</td>\n",
       "      <td>1.000</td>\n",
       "      <td>1</td>\n",
       "      <td>3</td>\n",
       "      <td>0</td>\n",
       "    </tr>\n",
       "    <tr>\n",
       "      <th>3033</th>\n",
       "      <td>0.00</td>\n",
       "      <td>0.0</td>\n",
       "      <td>2.04</td>\n",
       "      <td>0.0</td>\n",
       "      <td>0.00</td>\n",
       "      <td>0.00</td>\n",
       "      <td>0.00</td>\n",
       "      <td>0.00</td>\n",
       "      <td>0.00</td>\n",
       "      <td>0.00</td>\n",
       "      <td>...</td>\n",
       "      <td>0.000</td>\n",
       "      <td>0.000</td>\n",
       "      <td>0.0</td>\n",
       "      <td>0.000</td>\n",
       "      <td>0.000</td>\n",
       "      <td>0.000</td>\n",
       "      <td>1.428</td>\n",
       "      <td>3</td>\n",
       "      <td>20</td>\n",
       "      <td>0</td>\n",
       "    </tr>\n",
       "    <tr>\n",
       "      <th>720</th>\n",
       "      <td>0.32</td>\n",
       "      <td>0.0</td>\n",
       "      <td>1.64</td>\n",
       "      <td>0.0</td>\n",
       "      <td>0.98</td>\n",
       "      <td>0.00</td>\n",
       "      <td>0.32</td>\n",
       "      <td>0.00</td>\n",
       "      <td>0.65</td>\n",
       "      <td>1.31</td>\n",
       "      <td>...</td>\n",
       "      <td>0.000</td>\n",
       "      <td>0.000</td>\n",
       "      <td>0.0</td>\n",
       "      <td>0.858</td>\n",
       "      <td>0.101</td>\n",
       "      <td>0.000</td>\n",
       "      <td>337.250</td>\n",
       "      <td>1146</td>\n",
       "      <td>1349</td>\n",
       "      <td>1</td>\n",
       "    </tr>\n",
       "  </tbody>\n",
       "</table>\n",
       "<p>10 rows × 58 columns</p>\n",
       "</div>"
      ],
      "text/plain": [
       "        0    1     2    3     4     5     6     7     8     9  ...     48  \\\n",
       "2519  0.00  0.0  0.00  0.0  0.00  0.00  0.00  0.00  0.00  0.00 ...  0.000   \n",
       "1937  0.00  0.0  0.35  0.0  0.35  0.71  0.00  0.00  0.00  0.00 ...  0.000   \n",
       "874   0.00  0.0  0.44  0.0  0.88  0.22  0.00  0.00  0.00  0.00 ...  0.037   \n",
       "1043  0.00  0.0  0.09  0.0  0.58  0.29  0.09  0.00  0.38  0.00 ...  0.063   \n",
       "4178  0.00  0.0  0.00  0.0  0.00  0.00  0.00  0.00  0.00  0.86 ...  0.000   \n",
       "1000  0.45  0.9  0.90  0.0  0.45  0.00  0.00  0.45  0.00  1.80 ...  0.000   \n",
       "2466  0.00  0.0  0.00  0.0  0.00  0.00  0.00  0.00  0.00  0.00 ...  0.000   \n",
       "3665  0.00  0.0  0.00  0.0  0.00  0.00  0.00  0.00  0.00  0.00 ...  0.000   \n",
       "3033  0.00  0.0  2.04  0.0  0.00  0.00  0.00  0.00  0.00  0.00 ...  0.000   \n",
       "720   0.32  0.0  1.64  0.0  0.98  0.00  0.32  0.00  0.65  1.31 ...  0.000   \n",
       "\n",
       "         49   50     51     52     53       54    55    56  57  \n",
       "2519  0.000  0.0  0.000  0.000  0.000    3.125    17    25   0  \n",
       "1937  0.124  0.0  0.372  0.000  0.000    1.641    12   110   0  \n",
       "874   0.224  0.0  0.000  0.187  0.149    3.384    21   264   1  \n",
       "1043  0.047  0.0  0.559  0.047  0.031    1.694    23   432   1  \n",
       "4178  0.321  0.0  0.214  0.000  0.000    3.956    51    91   0  \n",
       "1000  0.244  0.0  1.631  0.244  0.081   64.416   708   773   1  \n",
       "2466  0.000  0.0  0.000  0.000  0.000    1.785     6    25   0  \n",
       "3665  0.000  0.0  0.000  0.000  0.000    1.000     1     3   0  \n",
       "3033  0.000  0.0  0.000  0.000  0.000    1.428     3    20   0  \n",
       "720   0.000  0.0  0.858  0.101  0.000  337.250  1146  1349   1  \n",
       "\n",
       "[10 rows x 58 columns]"
      ]
     },
     "execution_count": 231,
     "metadata": {},
     "output_type": "execute_result"
    }
   ],
   "source": [
    "spam_data = spam_data.sample(frac=1)\n",
    "spad_data = pd.DataFrame(spam_data.values, columns=spam_data.columns)\n",
    "spam_data.head(10)"
   ]
  },
  {
   "cell_type": "markdown",
   "metadata": {},
   "source": [
    "Для дальнейшего применения алгоритмов разобьём данные на значения признаков и столбец целевой переменной."
   ]
  },
  {
   "cell_type": "code",
   "execution_count": 232,
   "metadata": {},
   "outputs": [],
   "source": [
    "X = spam_data[np.arange(d)].values\n",
    "y = spam_data[57].values"
   ]
  },
  {
   "cell_type": "markdown",
   "metadata": {},
   "source": [
    "### Online Gradient Descent\n",
    "\n",
    "Для начала, чтобы убедиться в адекватности построенной модели, применим online градиентный спуск.\n",
    "Запустим его на разных начальных приближениях."
   ]
  },
  {
   "cell_type": "markdown",
   "metadata": {},
   "source": [
    "**Замечание.**\n",
    "\n",
    "Для получения значений `regret`ов был использован пакет для выпуклой оптимизации `cvxpy`, который получает ответ достаточно медленно. По этой причине я считал эти значения не на всех итерациях алгоритма.\n",
    "\n",
    "Чтобы не считать значения `regret`, можно не передавать 3 параметр в функцию `online_gradient_descent`."
   ]
  },
  {
   "cell_type": "code",
   "execution_count": 261,
   "metadata": {},
   "outputs": [],
   "source": [
    "R = 1.0\n",
    "G = 1.3\n",
    "D = 2.0 * R\n",
    "\n",
    "M = 100.0*R\n",
    "\n",
    "#объявление необходимых функций\n",
    "\n",
    "def proection(x):\n",
    "    if np.linalg.norm(x) <= R:\n",
    "        return x\n",
    "    return x / np.linalg.norm(x) * R\n",
    "\n",
    "def grad(x, w, y_value):\n",
    "    return (np.dot(x, w) + M - 2.0 * M * y_value) / (2.0*M**2) * w\n",
    "\n",
    "def calc_opt_value(x_list, y_list):\n",
    "    w = cvx.Variable(d)\n",
    "    #print(x_list)\n",
    "    #print(y_list)\n",
    "    prob = cvx.Problem(cvx.Minimize(cvx.sum_squares(y_list - (x_list*w + M) / (2*M))), \n",
    "                       [cvx.sum_squares(w) <= R**2])\n",
    "\n",
    "    result = prob.solve(solver=cvx.SCS, verbose=False, eps=0.01)\n",
    "    return result\n",
    "\n",
    "def calc_regret(cur_sum, x_list, y_list):\n",
    "    return cur_sum - calc_opt_value(x_list, y_list)\n",
    "\n",
    "def online_gradient_descent(x0, T, regrets=None, param_G=G, param_D=D, step_search=None):\n",
    "    x = x0\n",
    "    t = 1\n",
    "    cur_sum = 0\n",
    "    x_list = []\n",
    "    accuracy = 0\n",
    "    \n",
    "    if step_search is None:\n",
    "        get_step = lambda x_value, h, f, gradf, it: param_D / (param_G * float(it)**0.5)\n",
    "    else:\n",
    "        get_step = lambda x_value, h, f, gradf, it: step_search(x_value, h, f, gradf)\n",
    "    while t <= T:\n",
    "        cur_grad = grad(x, X[t - 1], y[t - 1])\n",
    "        alpha = get_step(x, cur_grad, \n",
    "                         lambda z: (y[t - 1] - (np.dot(X[t - 1], x) + M) / (2*M))**2,\n",
    "                         lambda z: grad(z, X[t - 1], y[t - 1]), t)\n",
    "        new_x = proection(x - alpha * cur_grad)\n",
    "        \n",
    "        x = new_x\n",
    "        x_list.append(x)\n",
    "        cur_dot = np.dot(X[t - 1], x)\n",
    "        if (np.sign(cur_dot) + 1)*0.5 == y[t - 1]:\n",
    "            accuracy += 1\n",
    "        \n",
    "        cur_sum += (y[t - 1] - (cur_dot + M) / (2*M))**2\n",
    "        if not (regrets is None) and ((t == T) or (t % 500 == 0)):\n",
    "            regrets.append((t, calc_regret(cur_sum, np.array(x_list), y[:t])))\n",
    "        t += 1\n",
    "    accuracy /= float(T)\n",
    "    print(\"accuracy:\", accuracy)\n",
    "    return x_list"
   ]
  },
  {
   "cell_type": "code",
   "execution_count": null,
   "metadata": {
    "scrolled": false
   },
   "outputs": [],
   "source": [
    "def try_online_gd(x0):\n",
    "    regrets = []\n",
    "    a = online_gradient_descent(x0, len(spam_data), regrets)\n",
    "    dots = np.dot(X, a)\n",
    "    predict = (np.sign(dots) + 1.0) / 2\n",
    "    regrets = np.array(regrets)\n",
    "\n",
    "    success = len(predict[predict == y])\n",
    "    print('regrets: ', regrets[:, 1])\n",
    "    return (regrets[:, 0], regrets[:, 1])\n",
    "    \n",
    "regret_matr = []\n",
    "regret_matr.append(try_online_gd(np.zeros(d)))\n",
    "regret_matr.append(try_online_gd(np.ones(d) * R / (float(d)**0.5)))\n",
    "regret_matr.append(try_online_gd(np.hstack(([R], np.zeros(d - 1)))))"
   ]
  },
  {
   "cell_type": "markdown",
   "metadata": {},
   "source": [
    "Построим графики посчитанных значений $regret$ в каждом случае."
   ]
  },
  {
   "cell_type": "code",
   "execution_count": 170,
   "metadata": {
    "scrolled": false
   },
   "outputs": [
    {
     "data": {
      "image/png": "[encoded data removed]",
      "text/plain": [
       "<matplotlib.figure.Figure at 0x7f9d4691edd0>"
      ]
     },
     "metadata": {},
     "output_type": "display_data"
    }
   ],
   "source": [
    "def plot_gd_regrets(regrets, labels=['$x_0=0$', \n",
    "                                  '$x_0=(\\\\frac{R}{\\\\sqrt{d}}, ..., \\\\frac{R}{\\\\sqrt{d}})$',\n",
    "                                  '$x_0=(R, 0, ..., 0)$']):\n",
    "    plt.figure(figsize=(14, 10))\n",
    "    for (regret, label) in zip(regrets, labels):\n",
    "        plt.plot(regret[0], regret[1], label=label)\n",
    "        \n",
    "    grid = np.linspace(0, 5000, 100000)\n",
    "    plt.plot(grid, 3.0*D*G*(grid**0.5), label=u'$3GD\\\\sqrt{T}$ - оценка сверху')\n",
    "        \n",
    "    plt.legend(fontsize=14)\n",
    "    plt.title(u'Зависимость значения regret от итерации', fontsize=20)\n",
    "    plt.xlabel('n iteration')\n",
    "    plt.ylabel('function value')\n",
    "    plt.show()\n",
    "\n",
    "plot_gd_regrets(np.array(regret_matr))"
   ]
  },
  {
   "cell_type": "markdown",
   "metadata": {},
   "source": [
    "**Вывод.**\n",
    "\n",
    "1) Как можно увидеть, от начального приближения точность алгоритма не зависит. И графики зависимости значения $regret$ от номера итерации получились при всех трёх рассмотренных начальных приближениях похожими.\n",
    "\n",
    "2) Теоретические оценки для верхней границы значений $regret$ оказались выполнены, что показывает достаточно."
   ]
  },
  {
   "cell_type": "code",
   "execution_count": 234,
   "metadata": {},
   "outputs": [],
   "source": [
    "import ipywidgets as widgets\n",
    "\n",
    "def display_widget(ip):\n",
    "    # отображаем слайдеры группами\n",
    "    display(widgets.HBox(ip.children[:2]))\n",
    "    display(widgets.HBox(ip.children[2:4]))\n",
    "    display(widgets.HBox(ip.children[4:6]))\n",
    "    if len(ip.children) > 7:\n",
    "        display(widgets.HBox(ip.children[6:len(ip.children)-1]))\n",
    "    # отображаем вывод функции\n",
    "    display(ip.children[-1])\n",
    "\n",
    "    ip.update()  # чтобы функция запустилась до первого изменения слайдеров"
   ]
  },
  {
   "cell_type": "code",
   "execution_count": 235,
   "metadata": {},
   "outputs": [
    {
     "data": {
      "application/vnd.jupyter.widget-view+json": {
       "model_id": "40ac71720c9d4b069955ca358706189c",
       "version_major": 2,
       "version_minor": 0
      },
      "text/html": [
       "<p>Failed to display Jupyter Widget of type <code>HBox</code>.</p>\n",
       "<p>\n",
       "  If you're reading this message in the Jupyter Notebook or JupyterLab Notebook, it may mean\n",
       "  that the widgets JavaScript is still loading. If this message persists, it\n",
       "  likely means that the widgets JavaScript library is either not installed or\n",
       "  not enabled. See the <a href=\"https://ipywidgets.readthedocs.io/en/stable/user_install.html\">Jupyter\n",
       "  Widgets Documentation</a> for setup instructions.\n",
       "</p>\n",
       "<p>\n",
       "  If you're reading this message in another frontend (for example, a static\n",
       "  rendering on GitHub or <a href=\"https://nbviewer.jupyter.org/\">NBViewer</a>),\n",
       "  it may mean that your frontend doesn't currently support widgets.\n",
       "</p>\n"
      ],
      "text/plain": [
       "HBox(children=(FloatSlider(value=1.25, description='param_G', max=10.0, min=0.5), FloatSlider(value=2.0, description='param_D', max=10.0, min=2.0)))"
      ]
     },
     "metadata": {},
     "output_type": "display_data"
    },
    {
     "data": {
      "application/vnd.jupyter.widget-view+json": {
       "model_id": "b3eb2524fb2c42e2bdd2e726257b09e0",
       "version_major": 2,
       "version_minor": 0
      },
      "text/html": [
       "<p>Failed to display Jupyter Widget of type <code>HBox</code>.</p>\n",
       "<p>\n",
       "  If you're reading this message in the Jupyter Notebook or JupyterLab Notebook, it may mean\n",
       "  that the widgets JavaScript is still loading. If this message persists, it\n",
       "  likely means that the widgets JavaScript library is either not installed or\n",
       "  not enabled. See the <a href=\"https://ipywidgets.readthedocs.io/en/stable/user_install.html\">Jupyter\n",
       "  Widgets Documentation</a> for setup instructions.\n",
       "</p>\n",
       "<p>\n",
       "  If you're reading this message in another frontend (for example, a static\n",
       "  rendering on GitHub or <a href=\"https://nbviewer.jupyter.org/\">NBViewer</a>),\n",
       "  it may mean that your frontend doesn't currently support widgets.\n",
       "</p>\n"
      ],
      "text/plain": [
       "HBox(children=(Output(),))"
      ]
     },
     "metadata": {},
     "output_type": "display_data"
    },
    {
     "data": {
      "application/vnd.jupyter.widget-view+json": {
       "model_id": "d4f59d90ced6488c9762ad137e395cd9",
       "version_major": 2,
       "version_minor": 0
      },
      "text/html": [
       "<p>Failed to display Jupyter Widget of type <code>HBox</code>.</p>\n",
       "<p>\n",
       "  If you're reading this message in the Jupyter Notebook or JupyterLab Notebook, it may mean\n",
       "  that the widgets JavaScript is still loading. If this message persists, it\n",
       "  likely means that the widgets JavaScript library is either not installed or\n",
       "  not enabled. See the <a href=\"https://ipywidgets.readthedocs.io/en/stable/user_install.html\">Jupyter\n",
       "  Widgets Documentation</a> for setup instructions.\n",
       "</p>\n",
       "<p>\n",
       "  If you're reading this message in another frontend (for example, a static\n",
       "  rendering on GitHub or <a href=\"https://nbviewer.jupyter.org/\">NBViewer</a>),\n",
       "  it may mean that your frontend doesn't currently support widgets.\n",
       "</p>\n"
      ],
      "text/plain": [
       "HBox()"
      ]
     },
     "metadata": {},
     "output_type": "display_data"
    },
    {
     "data": {
      "application/vnd.jupyter.widget-view+json": {
       "model_id": "548626127d2b4b7caaaf90804ba0dca1",
       "version_major": 2,
       "version_minor": 0
      },
      "text/html": [
       "<p>Failed to display Jupyter Widget of type <code>Output</code>.</p>\n",
       "<p>\n",
       "  If you're reading this message in the Jupyter Notebook or JupyterLab Notebook, it may mean\n",
       "  that the widgets JavaScript is still loading. If this message persists, it\n",
       "  likely means that the widgets JavaScript library is either not installed or\n",
       "  not enabled. See the <a href=\"https://ipywidgets.readthedocs.io/en/stable/user_install.html\">Jupyter\n",
       "  Widgets Documentation</a> for setup instructions.\n",
       "</p>\n",
       "<p>\n",
       "  If you're reading this message in another frontend (for example, a static\n",
       "  rendering on GitHub or <a href=\"https://nbviewer.jupyter.org/\">NBViewer</a>),\n",
       "  it may mean that your frontend doesn't currently support widgets.\n",
       "</p>\n"
      ],
      "text/plain": [
       "Output()"
      ]
     },
     "metadata": {},
     "output_type": "display_data"
    }
   ],
   "source": [
    "def const_step_OGD(param_G, param_D):\n",
    "    x = online_gradient_descent(np.zeros(d), len(spam_data), regrets=None,\n",
    "                                param_G=param_G, param_D=param_D)\n",
    "\n",
    "ip = widgets.interactive(const_step_OGD,\n",
    "                         param_G=widgets.FloatSlider(min=0.5, max=10, step=0.1, value=1.25),\n",
    "                         param_D=widgets.FloatSlider(min=2, max=10, step=0.1, value=2));\n",
    "\n",
    "display_widget(ip)"
   ]
  },
  {
   "cell_type": "markdown",
   "metadata": {},
   "source": [
    "**Вывод.**\n",
    "\n",
    "Как можно увидеть по варьированию значений параметров шага, от изменений шага итоговый вектор фильтра $x$ может варьироваться достаточно сильно. Но при этом значение accuracy достигает до 0.7.\n",
    "\n",
    "Теперь попробуем другие способы выбора шага. Например, можно выбирать шаг по правилам Армихо и Вольфа."
   ]
  },
  {
   "cell_type": "code",
   "execution_count": 250,
   "metadata": {},
   "outputs": [],
   "source": [
    "# отображает на графике значения regret, посчитанные на каждой 500-й итерации\n",
    "\n",
    "def plot_regrets_every_500(x_values, need_plot=True):\n",
    "    x_values = np.array(x_values)\n",
    "    T = len(x_values)\n",
    "    regrets = []\n",
    "    cur_sum = 0\n",
    "    \n",
    "    for t in range(T):\n",
    "        cur_sum += (y[t] - (np.dot(X[t], x_values[t]) + M) / (2*M))**2\n",
    "        if t % 500 == 0:\n",
    "            regrets.append(calc_regret(cur_sum, np.array(x_values[:t+1]), y[:t+1]))\n",
    "    \n",
    "    if need_plot:\n",
    "        plt.figure(figsize=(14, 10))\n",
    "        regrets = np.array(regrets)\n",
    "        plt.plot((1 + np.arange(regrets.size)) * 500, regrets, label='regret')\n",
    "        \n",
    "        plt.legend(fontsize=14)\n",
    "        plt.title(u'Зависимость значения regret от итерации', fontsize=16)\n",
    "        plt.xlabel('n iteration', fontsize=14)\n",
    "        plt.ylabel('regret value', fontsize=14)\n",
    "        plt.show()\n",
    "    return regrets\n",
    "    \n",
    "def handle_float(value):\n",
    "    if len(value.shape) == 0:\n",
    "        return np.array([np.array([value])])\n",
    "    return value\n",
    "\n",
    "def armijo_stepsize(x, h, func, gradf):\n",
    "    alpha = 1\n",
    "    rho = 0.5\n",
    "    beta = 0.3\n",
    "    assert beta < 0.5, \"Armijo rule is applicable for beta less than 0.5\"\n",
    "    assert rho < 1, \"Decay factor has to be less than 1\"\n",
    "        \n",
    "    current_grad = gradf(x)\n",
    "    current_f = func(x)\n",
    "    x_next = x + alpha*h\n",
    "    while True:\n",
    "        if np.isnan(func(x_next)):\n",
    "            alpha *= rho\n",
    "        else:\n",
    "            if func(x_next) >= current_f + beta * handle_float(current_grad).dot(x_next - x):\n",
    "                alpha *= rho\n",
    "            else:\n",
    "                break\n",
    "            if alpha < 1e-16:\n",
    "                break\n",
    "            x_next = x + alpha*h\n",
    "    return alpha\n",
    "\n",
    "def wolfe_step_search(x, h, f, grad):\n",
    "    rho = 0.5\n",
    "    beta1 = 0.2\n",
    "    beta2 = 0.7\n",
    "    current_grad = grad(x)\n",
    "    current_f = f(x)\n",
    "    alpha = 0.8\n",
    "    while alpha >= 1e-6: \n",
    "        if np.isnan(f(x + alpha * h)):\n",
    "            alpha *= rho\n",
    "        else:\n",
    "            if f(x + alpha * h) > current_f + beta1 * alpha * current_grad.dot(h):\n",
    "                alpha *= rho\n",
    "            elif h.dot(grad(x + alpha * h)) < beta2 * h.dot(current_grad):\n",
    "                alpha *= rho\n",
    "            else:\n",
    "                break\n",
    "            \n",
    "    return alpha"
   ]
  },
  {
   "cell_type": "code",
   "execution_count": 243,
   "metadata": {},
   "outputs": [
    {
     "name": "stdout",
     "output_type": "stream",
     "text": [
      "accuracy: 0.6072592914583786\n"
     ]
    }
   ],
   "source": [
    "def armijo_OGD():\n",
    "    online_gradient_descent(np.zeros(d), len(spam_data), None, step_search=armijo_stepsize)\n",
    "armijo_OGD()"
   ]
  },
  {
   "cell_type": "code",
   "execution_count": 244,
   "metadata": {},
   "outputs": [
    {
     "name": "stdout",
     "output_type": "stream",
     "text": [
      "accuracy: 0.6031297544012171\n"
     ]
    }
   ],
   "source": [
    "def wolfe_OGD():\n",
    "    x = online_gradient_descent(np.zeros(d), len(spam_data), None, step_search=wolfe_step_search)\n",
    "    \n",
    "wolfe_OGD()"
   ]
  },
  {
   "cell_type": "markdown",
   "metadata": {},
   "source": [
    "**Вывод.**\n",
    "\n",
    "В некоторых задачах Online Convex Optimisation выбор шага по методам Армихо и Вольфа может работать хуже, чем априорный шаг."
   ]
  },
  {
   "cell_type": "markdown",
   "metadata": {},
   "source": [
    "### Stochastic Online  Gradient Descent"
   ]
  },
  {
   "cell_type": "markdown",
   "metadata": {},
   "source": [
    "Теперь попробуем применить стохастический градиентный спуск."
   ]
  },
  {
   "cell_type": "code",
   "execution_count": 245,
   "metadata": {},
   "outputs": [],
   "source": [
    "def stoch_grad(x, w, y_value, S):\n",
    "    general_const = (np.dot(x, w) + M - 2.0 * M * y_value) / (2.0*M**2)\n",
    "    rand_indices = np.random.randint(d, size=S)\n",
    "    \n",
    "    return general_const / S * np.sum(w[rand_indices])\n",
    "\n",
    "def stoch_OGD(x0, T, regrets=None, param_G=G, param_D=D, step_search=None, S=1):\n",
    "    x = x0\n",
    "    t = 1\n",
    "    cur_sum = 0\n",
    "    x_list = []\n",
    "    accuracy = 0\n",
    "    \n",
    "    if step_search is None:\n",
    "        get_step = lambda x_value, h, f, gradf, it: param_D / (param_G * float(it)**0.5)\n",
    "    else:\n",
    "        get_step = lambda x_value, h, f, gradf, it: step_search(x_value, h, f, gradf)\n",
    "    while t <= T:\n",
    "        cur_grad = stoch_grad(x, X[t - 1], y[t - 1], S)\n",
    "        #print(cur_grad)\n",
    "        alpha = get_step(x, cur_grad, \n",
    "                         lambda z: (y[t - 1] - (np.dot(X[t - 1], x) + M) / (2*M))**2,\n",
    "                         lambda z: grad(z, X[t - 1], y[t - 1]), t)\n",
    "        new_x = proection(x - alpha * cur_grad)\n",
    "        \n",
    "        x = new_x\n",
    "        x_list.append(x)\n",
    "        cur_dot = np.dot(X[t - 1], x)\n",
    "        if (np.sign(cur_dot) + 1)*0.5 == y[t - 1]:\n",
    "            accuracy += 1\n",
    "        \n",
    "        cur_sum += (y[t - 1] - (cur_dot + M) / (2*M))**2\n",
    "        if not (regrets is None) and ((t == T) or (t % 500 == 0)):\n",
    "            regrets.append((t, calc_regret(cur_sum, np.array(x_list), y[:t])))\n",
    "        t += 1\n",
    "    accuracy /= float(T)\n",
    "    print(\"accuracy:\", accuracy)\n",
    "    return x_list"
   ]
  },
  {
   "cell_type": "markdown",
   "metadata": {},
   "source": [
    "Опробовать точность работы стохастического градиентного спуска можно при помощи следующего виджета.\n",
    "\n",
    "**Замечание.**\n",
    "\n",
    "Стохастический градиентный спуск - вероятностный алгоритм. Поэтому, запустив его несколько раз на одних и тех же параметрах, можно получить различные результаты работы."
   ]
  },
  {
   "cell_type": "code",
   "execution_count": 246,
   "metadata": {},
   "outputs": [
    {
     "data": {
      "application/vnd.jupyter.widget-view+json": {
       "model_id": "9c276d88a69643c1bc32c9edbdf1f21d",
       "version_major": 2,
       "version_minor": 0
      },
      "text/html": [
       "<p>Failed to display Jupyter Widget of type <code>HBox</code>.</p>\n",
       "<p>\n",
       "  If you're reading this message in the Jupyter Notebook or JupyterLab Notebook, it may mean\n",
       "  that the widgets JavaScript is still loading. If this message persists, it\n",
       "  likely means that the widgets JavaScript library is either not installed or\n",
       "  not enabled. See the <a href=\"https://ipywidgets.readthedocs.io/en/stable/user_install.html\">Jupyter\n",
       "  Widgets Documentation</a> for setup instructions.\n",
       "</p>\n",
       "<p>\n",
       "  If you're reading this message in another frontend (for example, a static\n",
       "  rendering on GitHub or <a href=\"https://nbviewer.jupyter.org/\">NBViewer</a>),\n",
       "  it may mean that your frontend doesn't currently support widgets.\n",
       "</p>\n"
      ],
      "text/plain": [
       "HBox(children=(FloatSlider(value=1.25, description='param_G', max=10.0, min=0.5), FloatSlider(value=2.0, description='param_D', max=10.0, min=2.0)))"
      ]
     },
     "metadata": {},
     "output_type": "display_data"
    },
    {
     "data": {
      "application/vnd.jupyter.widget-view+json": {
       "model_id": "d1ac9e9325ae4ca98f383de636f04c12",
       "version_major": 2,
       "version_minor": 0
      },
      "text/html": [
       "<p>Failed to display Jupyter Widget of type <code>HBox</code>.</p>\n",
       "<p>\n",
       "  If you're reading this message in the Jupyter Notebook or JupyterLab Notebook, it may mean\n",
       "  that the widgets JavaScript is still loading. If this message persists, it\n",
       "  likely means that the widgets JavaScript library is either not installed or\n",
       "  not enabled. See the <a href=\"https://ipywidgets.readthedocs.io/en/stable/user_install.html\">Jupyter\n",
       "  Widgets Documentation</a> for setup instructions.\n",
       "</p>\n",
       "<p>\n",
       "  If you're reading this message in another frontend (for example, a static\n",
       "  rendering on GitHub or <a href=\"https://nbviewer.jupyter.org/\">NBViewer</a>),\n",
       "  it may mean that your frontend doesn't currently support widgets.\n",
       "</p>\n"
      ],
      "text/plain": [
       "HBox(children=(IntSlider(value=10, description='S', max=55, min=1), Output()))"
      ]
     },
     "metadata": {},
     "output_type": "display_data"
    },
    {
     "data": {
      "application/vnd.jupyter.widget-view+json": {
       "model_id": "ca2c117965d9410581d6822fdc378261",
       "version_major": 2,
       "version_minor": 0
      },
      "text/html": [
       "<p>Failed to display Jupyter Widget of type <code>HBox</code>.</p>\n",
       "<p>\n",
       "  If you're reading this message in the Jupyter Notebook or JupyterLab Notebook, it may mean\n",
       "  that the widgets JavaScript is still loading. If this message persists, it\n",
       "  likely means that the widgets JavaScript library is either not installed or\n",
       "  not enabled. See the <a href=\"https://ipywidgets.readthedocs.io/en/stable/user_install.html\">Jupyter\n",
       "  Widgets Documentation</a> for setup instructions.\n",
       "</p>\n",
       "<p>\n",
       "  If you're reading this message in another frontend (for example, a static\n",
       "  rendering on GitHub or <a href=\"https://nbviewer.jupyter.org/\">NBViewer</a>),\n",
       "  it may mean that your frontend doesn't currently support widgets.\n",
       "</p>\n"
      ],
      "text/plain": [
       "HBox()"
      ]
     },
     "metadata": {},
     "output_type": "display_data"
    },
    {
     "data": {
      "application/vnd.jupyter.widget-view+json": {
       "model_id": "3fd03a2909824b7196b3510999246da8",
       "version_major": 2,
       "version_minor": 0
      },
      "text/html": [
       "<p>Failed to display Jupyter Widget of type <code>Output</code>.</p>\n",
       "<p>\n",
       "  If you're reading this message in the Jupyter Notebook or JupyterLab Notebook, it may mean\n",
       "  that the widgets JavaScript is still loading. If this message persists, it\n",
       "  likely means that the widgets JavaScript library is either not installed or\n",
       "  not enabled. See the <a href=\"https://ipywidgets.readthedocs.io/en/stable/user_install.html\">Jupyter\n",
       "  Widgets Documentation</a> for setup instructions.\n",
       "</p>\n",
       "<p>\n",
       "  If you're reading this message in another frontend (for example, a static\n",
       "  rendering on GitHub or <a href=\"https://nbviewer.jupyter.org/\">NBViewer</a>),\n",
       "  it may mean that your frontend doesn't currently support widgets.\n",
       "</p>\n"
      ],
      "text/plain": [
       "Output()"
      ]
     },
     "metadata": {},
     "output_type": "display_data"
    }
   ],
   "source": [
    "def const_step_stoch_OGD(param_G, param_D, S):\n",
    "    x = stoch_OGD(np.zeros(d), len(spam_data), regrets=None,\n",
    "                                param_G=param_G, param_D=param_D)\n",
    "\n",
    "stoch_ip = widgets.interactive(const_step_stoch_OGD,\n",
    "                         param_G=widgets.FloatSlider(min=0.5, max=10, step=0.1, value=1.25),\n",
    "                         param_D=widgets.FloatSlider(min=2, max=10, step=0.1, value=2),\n",
    "                         S=widgets.IntSlider(min=1, max=d, step=1, value=10));\n",
    "\n",
    "display_widget(stoch_ip)"
   ]
  },
  {
   "cell_type": "markdown",
   "metadata": {},
   "source": [
    "Рассмотрим значения `regret` на разных способах выбора шага."
   ]
  },
  {
   "cell_type": "code",
   "execution_count": 251,
   "metadata": {},
   "outputs": [
    {
     "name": "stdout",
     "output_type": "stream",
     "text": [
      "accuracy: 0.3942621169311019\n"
     ]
    },
    {
     "data": {
      "image/png": "[encoded data removed]",
      "text/plain": [
       "<matplotlib.figure.Figure at 0x7efcd0179b38>"
      ]
     },
     "metadata": {},
     "output_type": "display_data"
    },
    {
     "data": {
      "text/plain": [
       "array([-1.30827116e-08, -2.91738001e-01,  2.76000922e+00,  6.32088166e+00,\n",
       "        9.95808578e+00,  1.32423695e+00, -1.37896278e+01, -1.56685676e+01,\n",
       "       -1.77013468e+01, -1.99951736e+01])"
      ]
     },
     "execution_count": 251,
     "metadata": {},
     "output_type": "execute_result"
    }
   ],
   "source": [
    "plot_regrets_every_500(stoch_OGD(np.zeros(d), len(spam_data), regrets=None, S=10))"
   ]
  },
  {
   "cell_type": "code",
   "execution_count": 252,
   "metadata": {},
   "outputs": [
    {
     "name": "stdout",
     "output_type": "stream",
     "text": [
      "accuracy: 0.39404477287546186\n"
     ]
    },
    {
     "data": {
      "image/png": "[encoded data removed]",
      "text/plain": [
       "<matplotlib.figure.Figure at 0x7efc97655208>"
      ]
     },
     "metadata": {},
     "output_type": "display_data"
    },
    {
     "data": {
      "text/plain": [
       "array([ 1.81855299e-02, -3.35446251e-01,  2.96943431e+00,  6.68399045e+00,\n",
       "        1.00669508e+01,  2.92834719e+00, -1.37892680e+01, -1.61117564e+01,\n",
       "       -1.79545226e+01, -1.98265649e+01])"
      ]
     },
     "execution_count": 252,
     "metadata": {},
     "output_type": "execute_result"
    }
   ],
   "source": [
    "plot_regrets_every_500(stoch_OGD(np.ones(d) * R / (float(d)**0.5), len(spam_data), regrets=None, S=10))"
   ]
  },
  {
   "cell_type": "code",
   "execution_count": 253,
   "metadata": {},
   "outputs": [
    {
     "name": "stdout",
     "output_type": "stream",
     "text": [
      "accuracy: 0.3946968050423821\n"
     ]
    },
    {
     "data": {
      "image/png": "[encoded data removed]",
      "text/plain": [
       "<matplotlib.figure.Figure at 0x7efc8488d668>"
      ]
     },
     "metadata": {},
     "output_type": "display_data"
    },
    {
     "data": {
      "text/plain": [
       "array([ 4.02800108e-03, -2.61025336e-01,  3.04316114e+00,  6.95241126e+00,\n",
       "        1.00649278e+01,  1.42069699e+01,  2.04269578e+01,  2.64382670e+01,\n",
       "        3.12986198e+01,  3.88113726e+01])"
      ]
     },
     "execution_count": 253,
     "metadata": {},
     "output_type": "execute_result"
    }
   ],
   "source": [
    "plot_regrets_every_500(stoch_OGD(np.hstack(([R], np.zeros(d - 1))), len(spam_data), regrets=None, S=10))"
   ]
  },
  {
   "cell_type": "markdown",
   "metadata": {},
   "source": [
    "### Online Newton Step"
   ]
  },
  {
   "cell_type": "markdown",
   "metadata": {},
   "source": [
    "Для начала научимся решать задачу методом проекций градиента. Воспользуемся уже написанной функцией поиска проекции на шар."
   ]
  },
  {
   "cell_type": "code",
   "execution_count": 215,
   "metadata": {},
   "outputs": [],
   "source": [
    "def isPSD(A, tol=1e-8):\n",
    "    E,V = scp.linalg.eigh(A)\n",
    "    return np.all(E > -tol)"
   ]
  },
  {
   "cell_type": "code",
   "execution_count": 257,
   "metadata": {},
   "outputs": [],
   "source": [
    "def calc_armijo_step(f, gradf, h, x):\n",
    "    alpha = 1\n",
    "    beta = 0.1\n",
    "    rho = 0.9\n",
    "    while (f(proection(x - alpha * h)) >= f(x) + beta * alpha * np.array(gradf(x)).dot(h)):\n",
    "        alpha *= rho\n",
    "    return alpha\n",
    "\n",
    "def matr_dist(A, x, y):\n",
    "    return (x - y).T.dot(A.dot(x - y))\n",
    "\n",
    "def matr_dist_grad(A, x, y):\n",
    "    return 2 * A.dot(x - y)\n",
    "\n",
    "#Решим задачу минимизации, выбирая шаг априорной последовательностью\n",
    "def find_A_proection(A, y, tol=1e-3, max_iter=10000):\n",
    "    it = 0\n",
    "    x = proection(y)\n",
    "    while it < max_iter:\n",
    "        gradient = matr_dist_grad(A, x, y)\n",
    "        #alpha = calc_armijo_step(lambda x: matr_dist(A, x, y),\n",
    "        #                         lambda x: matr_dist_grad(A, x, y), gradient, x)\n",
    "        alpha = 2. / (2. + np.sqrt(it))\n",
    "        x_prev = x.copy()\n",
    "        x = proection(x - alpha * gradient)\n",
    "        if np.linalg.norm(x - x_prev) < tol:\n",
    "            break\n",
    "        it += 1\n",
    "    return x\n",
    "\n",
    "def find_A_proj_cvxpy(A, y):\n",
    "    x = cvx.Variable(y.size)\n",
    "    y_c = cvx.Constant(y)\n",
    "    prob = cvx.Problem(cvx.Minimize(cvx.quad_form(x - y, A)), \n",
    "                       [cvx.norm(x) <= R])\n",
    "    result = prob.solve(solver=cvx.SCS, verbose=False, eps=1e-5)\n",
    "    if x.value is None:\n",
    "        return find_A_proection(A, y)\n",
    "    return x.value\n",
    "\n",
    "alpha = 1 / 2\n",
    "gamma = 1/2 * np.min([1./4./G/D, alpha])\n",
    "epsilon = 1 / gamma**2 / D**2\n",
    "\n",
    "def const_step():\n",
    "    return 1. / gamma\n",
    "\n",
    "def find_ons_solutions(x0, T, var_epsilon=epsilon, \\\n",
    "                       var_gamma=gamma, proj_solver='proj_grad'):\n",
    "    x = x0\n",
    "    A = var_epsilon * np.eye(d)\n",
    "    A_rev = 1 / var_epsilon * np.eye(d)\n",
    "    x_list = []\n",
    "    for t in tqdm_notebook(range(T)):\n",
    "        x_list.append(x)\n",
    "        grad_val = grad(x, X[t], y[t])\n",
    "        grad_col = grad_val.reshape(-1, 1)\n",
    "        A = A + grad_col.dot(grad_col.T)\n",
    "        A_revx = A_rev.dot(grad_val)\n",
    "        A_revx_col = A_revx.reshape(-1, 1)\n",
    "        A_rev = A_rev - A_revx_col.dot(A_revx_col.T)/(1 + grad_val.T.dot(A_revx))\n",
    "        non_proj = x - 1. / var_gamma * A_rev.dot(grad_val)\n",
    "        if proj_solver == 'proj_grad':\n",
    "            x = find_A_proection(A, non_proj, tol=1e-7)\n",
    "        else:\n",
    "            x = find_A_proj_cvxpy(A, non_proj)\n",
    "    return x_list"
   ]
  },
  {
   "cell_type": "code",
   "execution_count": 256,
   "metadata": {},
   "outputs": [
    {
     "data": {
      "application/vnd.jupyter.widget-view+json": {
       "model_id": "492740750cce4209be7287d8d1fe6bdd",
       "version_major": 2,
       "version_minor": 0
      },
      "text/html": [
       "<p>Failed to display Jupyter Widget of type <code>HBox</code>.</p>\n",
       "<p>\n",
       "  If you're reading this message in the Jupyter Notebook or JupyterLab Notebook, it may mean\n",
       "  that the widgets JavaScript is still loading. If this message persists, it\n",
       "  likely means that the widgets JavaScript library is either not installed or\n",
       "  not enabled. See the <a href=\"https://ipywidgets.readthedocs.io/en/stable/user_install.html\">Jupyter\n",
       "  Widgets Documentation</a> for setup instructions.\n",
       "</p>\n",
       "<p>\n",
       "  If you're reading this message in another frontend (for example, a static\n",
       "  rendering on GitHub or <a href=\"https://nbviewer.jupyter.org/\">NBViewer</a>),\n",
       "  it may mean that your frontend doesn't currently support widgets.\n",
       "</p>\n"
      ],
      "text/plain": [
       "HBox(children=(IntProgress(value=0, max=4601), HTML(value='')))"
      ]
     },
     "metadata": {},
     "output_type": "display_data"
    }
   ],
   "source": [
    "x0 = np.zeros(d)\n",
    "x0[0] = R\n",
    "sols = find_ons_solutions(x0, len(spam_data))"
   ]
  },
  {
   "cell_type": "code",
   "execution_count": 282,
   "metadata": {
    "scrolled": false
   },
   "outputs": [],
   "source": [
    "def measure_accuracy(solutions):\n",
    "    n_correct = 0\n",
    "    for i in np.arange(len(solutions)):\n",
    "        verdict = (np.sign(X[i].dot(solutions[i])) + 1) / 2\n",
    "        if verdict == y[i]:\n",
    "            n_correct += 1\n",
    "    return n_correct * 1. / len(spam_data)"
   ]
  },
  {
   "cell_type": "code",
   "execution_count": 227,
   "metadata": {},
   "outputs": [
    {
     "name": "stdout",
     "output_type": "stream",
     "text": [
      "Accuracy:  0.647250597696153\n"
     ]
    }
   ],
   "source": [
    "print('Accuracy: ', measure_accuracy(sols))"
   ]
  },
  {
   "cell_type": "markdown",
   "metadata": {},
   "source": [
    "Таким образом, видим, что этот метод даёт прогнозы менее точные, чем написанные ранее. Однако эти точности, близки, и, возможно, результаты сильно зависят от гиперпараметров."
   ]
  },
  {
   "cell_type": "code",
   "execution_count": 254,
   "metadata": {},
   "outputs": [
    {
     "data": {
      "image/png": "[encoded data removed]",
      "text/plain": [
       "<matplotlib.figure.Figure at 0x7efc97461c88>"
      ]
     },
     "metadata": {},
     "output_type": "display_data"
    },
    {
     "data": {
      "text/plain": [
       "array([4.66832347e-03, 1.02071153e+01, 1.02530713e+01, 1.67520925e+01,\n",
       "       2.29729672e+01, 2.49350824e+01, 2.84251721e+01, 3.30091386e+01,\n",
       "       3.50187311e+01, 4.13949727e+01])"
      ]
     },
     "execution_count": 254,
     "metadata": {},
     "output_type": "execute_result"
    }
   ],
   "source": [
    "plot_regrets_every_500(sols)"
   ]
  },
  {
   "cell_type": "markdown",
   "metadata": {},
   "source": [
    "Видим, что в плане $regret$ результаты похожи на градиентный спуск (около 40 на последней итерации). Видимо, на данном этапе константа ещё слишком велика, а размер данных наоборот велик недостаточно, чтобы почувствовать разницу между оценками сверху."
   ]
  },
  {
   "cell_type": "markdown",
   "metadata": {},
   "source": [
    "Одним из важных параметров является радиус шара, из которого будет выбираться начальное решение. Построим виджет, который позволит выбирать его, границу норм градиента $G$, префикс, на котором будут вычисляться ответы, а также метод поиска проекции на множество: искать его с помощью метода проекций градиента или же с использованием `cvxpy`"
   ]
  },
  {
   "cell_type": "code",
   "execution_count": 283,
   "metadata": {},
   "outputs": [],
   "source": [
    "def make_interactive_ons(rad, g, n_iter, proj_solver):\n",
    "    global M\n",
    "    global R\n",
    "    R = rad\n",
    "    var_d = 2 * rad\n",
    "    var_gamma = 1/2 * np.min([1./4./g/var_d, alpha])\n",
    "    epsilon = 1 / var_gamma**2 / var_d**2\n",
    "    M = 100. * rad\n",
    "    x0 = np.zeros(d)\n",
    "    x0[0] = rad\n",
    "    int_sols = find_ons_solutions(x0, n_iter, epsilon, var_gamma, proj_solver)\n",
    "    print('Accuracy: ', measure_accuracy(int_sols))"
   ]
  },
  {
   "cell_type": "code",
   "execution_count": 285,
   "metadata": {},
   "outputs": [
    {
     "data": {
      "application/vnd.jupyter.widget-view+json": {
       "model_id": "40e115a1934e40258a78d22995a52923",
       "version_major": 2,
       "version_minor": 0
      },
      "text/html": [
       "<p>Failed to display Jupyter Widget of type <code>HBox</code>.</p>\n",
       "<p>\n",
       "  If you're reading this message in the Jupyter Notebook or JupyterLab Notebook, it may mean\n",
       "  that the widgets JavaScript is still loading. If this message persists, it\n",
       "  likely means that the widgets JavaScript library is either not installed or\n",
       "  not enabled. See the <a href=\"https://ipywidgets.readthedocs.io/en/stable/user_install.html\">Jupyter\n",
       "  Widgets Documentation</a> for setup instructions.\n",
       "</p>\n",
       "<p>\n",
       "  If you're reading this message in another frontend (for example, a static\n",
       "  rendering on GitHub or <a href=\"https://nbviewer.jupyter.org/\">NBViewer</a>),\n",
       "  it may mean that your frontend doesn't currently support widgets.\n",
       "</p>\n"
      ],
      "text/plain": [
       "HBox(children=(FloatSlider(value=1.0, description='rad', max=5.0, min=0.5), FloatSlider(value=1.3, description='g', max=10.0, min=1.0)))"
      ]
     },
     "metadata": {},
     "output_type": "display_data"
    },
    {
     "data": {
      "application/vnd.jupyter.widget-view+json": {
       "model_id": "c8b7dd212d6944bb93ba3266999d4638",
       "version_major": 2,
       "version_minor": 0
      },
      "text/html": [
       "<p>Failed to display Jupyter Widget of type <code>HBox</code>.</p>\n",
       "<p>\n",
       "  If you're reading this message in the Jupyter Notebook or JupyterLab Notebook, it may mean\n",
       "  that the widgets JavaScript is still loading. If this message persists, it\n",
       "  likely means that the widgets JavaScript library is either not installed or\n",
       "  not enabled. See the <a href=\"https://ipywidgets.readthedocs.io/en/stable/user_install.html\">Jupyter\n",
       "  Widgets Documentation</a> for setup instructions.\n",
       "</p>\n",
       "<p>\n",
       "  If you're reading this message in another frontend (for example, a static\n",
       "  rendering on GitHub or <a href=\"https://nbviewer.jupyter.org/\">NBViewer</a>),\n",
       "  it may mean that your frontend doesn't currently support widgets.\n",
       "</p>\n"
      ],
      "text/plain": [
       "HBox(children=(IntSlider(value=30, description='n_iter', max=4601, min=1), RadioButtons(description='Projecton method', options=('proj_grad', 'cvxpy'), value='proj_grad')))"
      ]
     },
     "metadata": {},
     "output_type": "display_data"
    },
    {
     "data": {
      "application/vnd.jupyter.widget-view+json": {
       "model_id": "7b0cd40ac7a74d92bf358e6b3a7adb3c",
       "version_major": 2,
       "version_minor": 0
      },
      "text/html": [
       "<p>Failed to display Jupyter Widget of type <code>HBox</code>.</p>\n",
       "<p>\n",
       "  If you're reading this message in the Jupyter Notebook or JupyterLab Notebook, it may mean\n",
       "  that the widgets JavaScript is still loading. If this message persists, it\n",
       "  likely means that the widgets JavaScript library is either not installed or\n",
       "  not enabled. See the <a href=\"https://ipywidgets.readthedocs.io/en/stable/user_install.html\">Jupyter\n",
       "  Widgets Documentation</a> for setup instructions.\n",
       "</p>\n",
       "<p>\n",
       "  If you're reading this message in another frontend (for example, a static\n",
       "  rendering on GitHub or <a href=\"https://nbviewer.jupyter.org/\">NBViewer</a>),\n",
       "  it may mean that your frontend doesn't currently support widgets.\n",
       "</p>\n"
      ],
      "text/plain": [
       "HBox(children=(Output(),))"
      ]
     },
     "metadata": {},
     "output_type": "display_data"
    },
    {
     "data": {
      "application/vnd.jupyter.widget-view+json": {
       "model_id": "04862d048e5446d0aaf4a5f1bb8f2483",
       "version_major": 2,
       "version_minor": 0
      },
      "text/html": [
       "<p>Failed to display Jupyter Widget of type <code>Output</code>.</p>\n",
       "<p>\n",
       "  If you're reading this message in the Jupyter Notebook or JupyterLab Notebook, it may mean\n",
       "  that the widgets JavaScript is still loading. If this message persists, it\n",
       "  likely means that the widgets JavaScript library is either not installed or\n",
       "  not enabled. See the <a href=\"https://ipywidgets.readthedocs.io/en/stable/user_install.html\">Jupyter\n",
       "  Widgets Documentation</a> for setup instructions.\n",
       "</p>\n",
       "<p>\n",
       "  If you're reading this message in another frontend (for example, a static\n",
       "  rendering on GitHub or <a href=\"https://nbviewer.jupyter.org/\">NBViewer</a>),\n",
       "  it may mean that your frontend doesn't currently support widgets.\n",
       "</p>\n"
      ],
      "text/plain": [
       "Output()"
      ]
     },
     "metadata": {},
     "output_type": "display_data"
    }
   ],
   "source": [
    "ons_widget = widgets.interactive(make_interactive_ons,\n",
    "                 rad=widgets.FloatSlider(min=0.5, max=5, step=0.1, value=1.0),\n",
    "                 g=widgets.FloatSlider(min=1, max=10, step=0.1, value=1.3),\n",
    "                 n_iter=widgets.IntSlider(min=1, max=len(spam_data), step=1, value=30),\n",
    "                 proj_solver=widgets.RadioButtons(options=['proj_grad', 'cvxpy'],\n",
    "                     description='Projecton method', disabled=False))\n",
    "\n",
    "display_widget(ons_widget)"
   ]
  },
  {
   "cell_type": "markdown",
   "metadata": {},
   "source": [
    "Видим, что поиск при помощи метода проекций градиента с априорным шагом оказывается быстрее. На 1000 итераций ещё и точнее, хотя для хорошей точности требуется большое количество примеров. На маленьких размерах можно посмотреть, как будет работать метод при изменении радиуса шара.\n",
    "\n",
    "Также заметно, что при увеличении радиуса и $g$, метод проекций градиента работает ещё быстрее, при этом давая неплохую точность."
   ]
  }
 ],
 "metadata": {
  "kernelspec": {
   "display_name": "Python 3",
   "language": "python",
   "name": "python3"
  },
  "language_info": {
   "codemirror_mode": {
    "name": "ipython",
    "version": 3
   },
   "file_extension": ".py",
   "mimetype": "text/x-python",
   "name": "python",
   "nbconvert_exporter": "python",
   "pygments_lexer": "ipython3",
   "version": "3.6.4"
  }
 },
 "nbformat": 4,
 "nbformat_minor": 2
}
